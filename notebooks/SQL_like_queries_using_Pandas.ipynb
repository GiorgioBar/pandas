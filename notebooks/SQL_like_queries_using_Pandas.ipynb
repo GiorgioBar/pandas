{
  "nbformat": 4,
  "nbformat_minor": 0,
  "metadata": {
    "colab": {
      "provenance": []
    },
    "kernelspec": {
      "name": "python3",
      "display_name": "Python 3"
    },
    "language_info": {
      "name": "python"
    }
  },
  "cells": [
    {
      "cell_type": "markdown",
      "source": [
        "## Introducing Pandas\n",
        "\n",
        "Pandas is a popular open source library for data analysis built on top of the Python programming language and it is the nucleus in a large Python ecosystem of data science tools.\n",
        "\n",
        "Pandas is easily integrated with libraries for statistics, natural language processing, machine learning, web scraping, data visualization and more.\n"
      ],
      "metadata": {
        "id": "SGEIez7bD25R"
      }
    },
    {
      "cell_type": "markdown",
      "source": [
        "#### Import the Pandas library\n",
        "\n",
        "Import the pandas library to get access to its features."
      ],
      "metadata": {
        "id": "36NN1D7gnAgM"
      }
    },
    {
      "cell_type": "code",
      "source": [
        "import pandas as pd"
      ],
      "metadata": {
        "id": "hVJ3gLnUnUKf"
      },
      "execution_count": 1,
      "outputs": []
    },
    {
      "cell_type": "markdown",
      "source": [
        "#### Importing a dataset\n",
        "\n",
        "Pandas can import a variety of file types, each file type has its associated import method. We can use the [read_csv](https://pandas.pydata.org/docs/reference/api/pandas.read_csv.html) method to tell Pandas to open up the *population.csv* file.\n",
        "\n",
        "This method imports the CSV file's contents into an object called a **DataFrame**, a two-dimensional labeled data structure with columns of potentially different types.\n"
      ],
      "metadata": {
        "id": "O94Rsl3CoMH7"
      }
    },
    {
      "cell_type": "code",
      "source": [
        "url = 'https://raw.githubusercontent.com/GiorgioBar/pandas/main/datasets/population.csv'\n",
        "population_df = pd.read_csv(url)\n",
        "population_df.head()"
      ],
      "metadata": {
        "id": "p2283UgRZoRu",
        "colab": {
          "base_uri": "https://localhost:8080/",
          "height": 206
        },
        "outputId": "2ef53936-68d9-46e8-98df-b5d059624be9"
      },
      "execution_count": 28,
      "outputs": [
        {
          "output_type": "execute_result",
          "data": {
            "text/plain": [
              "  ITTER107   Territory  SEXISTAT1   Gender ETA1      Age   Value\n",
              "0       IT       Italy          1    males   Y0  0 years  205956\n",
              "1       IT       Italy          2  females   Y0  0 years  195565\n",
              "2       IT       Italy          9    total   Y0  0 years  401521\n",
              "3      ITC  Nord-ovest          1    males   Y0  0 years   54122\n",
              "4      ITC  Nord-ovest          2  females   Y0  0 years   51309"
            ],
            "text/html": [
              "\n",
              "  <div id=\"df-6b777430-bdcf-4483-acbf-66baa92af552\">\n",
              "    <div class=\"colab-df-container\">\n",
              "      <div>\n",
              "<style scoped>\n",
              "    .dataframe tbody tr th:only-of-type {\n",
              "        vertical-align: middle;\n",
              "    }\n",
              "\n",
              "    .dataframe tbody tr th {\n",
              "        vertical-align: top;\n",
              "    }\n",
              "\n",
              "    .dataframe thead th {\n",
              "        text-align: right;\n",
              "    }\n",
              "</style>\n",
              "<table border=\"1\" class=\"dataframe\">\n",
              "  <thead>\n",
              "    <tr style=\"text-align: right;\">\n",
              "      <th></th>\n",
              "      <th>ITTER107</th>\n",
              "      <th>Territory</th>\n",
              "      <th>SEXISTAT1</th>\n",
              "      <th>Gender</th>\n",
              "      <th>ETA1</th>\n",
              "      <th>Age</th>\n",
              "      <th>Value</th>\n",
              "    </tr>\n",
              "  </thead>\n",
              "  <tbody>\n",
              "    <tr>\n",
              "      <th>0</th>\n",
              "      <td>IT</td>\n",
              "      <td>Italy</td>\n",
              "      <td>1</td>\n",
              "      <td>males</td>\n",
              "      <td>Y0</td>\n",
              "      <td>0 years</td>\n",
              "      <td>205956</td>\n",
              "    </tr>\n",
              "    <tr>\n",
              "      <th>1</th>\n",
              "      <td>IT</td>\n",
              "      <td>Italy</td>\n",
              "      <td>2</td>\n",
              "      <td>females</td>\n",
              "      <td>Y0</td>\n",
              "      <td>0 years</td>\n",
              "      <td>195565</td>\n",
              "    </tr>\n",
              "    <tr>\n",
              "      <th>2</th>\n",
              "      <td>IT</td>\n",
              "      <td>Italy</td>\n",
              "      <td>9</td>\n",
              "      <td>total</td>\n",
              "      <td>Y0</td>\n",
              "      <td>0 years</td>\n",
              "      <td>401521</td>\n",
              "    </tr>\n",
              "    <tr>\n",
              "      <th>3</th>\n",
              "      <td>ITC</td>\n",
              "      <td>Nord-ovest</td>\n",
              "      <td>1</td>\n",
              "      <td>males</td>\n",
              "      <td>Y0</td>\n",
              "      <td>0 years</td>\n",
              "      <td>54122</td>\n",
              "    </tr>\n",
              "    <tr>\n",
              "      <th>4</th>\n",
              "      <td>ITC</td>\n",
              "      <td>Nord-ovest</td>\n",
              "      <td>2</td>\n",
              "      <td>females</td>\n",
              "      <td>Y0</td>\n",
              "      <td>0 years</td>\n",
              "      <td>51309</td>\n",
              "    </tr>\n",
              "  </tbody>\n",
              "</table>\n",
              "</div>\n",
              "      <button class=\"colab-df-convert\" onclick=\"convertToInteractive('df-6b777430-bdcf-4483-acbf-66baa92af552')\"\n",
              "              title=\"Convert this dataframe to an interactive table.\"\n",
              "              style=\"display:none;\">\n",
              "        \n",
              "  <svg xmlns=\"http://www.w3.org/2000/svg\" height=\"24px\"viewBox=\"0 0 24 24\"\n",
              "       width=\"24px\">\n",
              "    <path d=\"M0 0h24v24H0V0z\" fill=\"none\"/>\n",
              "    <path d=\"M18.56 5.44l.94 2.06.94-2.06 2.06-.94-2.06-.94-.94-2.06-.94 2.06-2.06.94zm-11 1L8.5 8.5l.94-2.06 2.06-.94-2.06-.94L8.5 2.5l-.94 2.06-2.06.94zm10 10l.94 2.06.94-2.06 2.06-.94-2.06-.94-.94-2.06-.94 2.06-2.06.94z\"/><path d=\"M17.41 7.96l-1.37-1.37c-.4-.4-.92-.59-1.43-.59-.52 0-1.04.2-1.43.59L10.3 9.45l-7.72 7.72c-.78.78-.78 2.05 0 2.83L4 21.41c.39.39.9.59 1.41.59.51 0 1.02-.2 1.41-.59l7.78-7.78 2.81-2.81c.8-.78.8-2.07 0-2.86zM5.41 20L4 18.59l7.72-7.72 1.47 1.35L5.41 20z\"/>\n",
              "  </svg>\n",
              "      </button>\n",
              "      \n",
              "  <style>\n",
              "    .colab-df-container {\n",
              "      display:flex;\n",
              "      flex-wrap:wrap;\n",
              "      gap: 12px;\n",
              "    }\n",
              "\n",
              "    .colab-df-convert {\n",
              "      background-color: #E8F0FE;\n",
              "      border: none;\n",
              "      border-radius: 50%;\n",
              "      cursor: pointer;\n",
              "      display: none;\n",
              "      fill: #1967D2;\n",
              "      height: 32px;\n",
              "      padding: 0 0 0 0;\n",
              "      width: 32px;\n",
              "    }\n",
              "\n",
              "    .colab-df-convert:hover {\n",
              "      background-color: #E2EBFA;\n",
              "      box-shadow: 0px 1px 2px rgba(60, 64, 67, 0.3), 0px 1px 3px 1px rgba(60, 64, 67, 0.15);\n",
              "      fill: #174EA6;\n",
              "    }\n",
              "\n",
              "    [theme=dark] .colab-df-convert {\n",
              "      background-color: #3B4455;\n",
              "      fill: #D2E3FC;\n",
              "    }\n",
              "\n",
              "    [theme=dark] .colab-df-convert:hover {\n",
              "      background-color: #434B5C;\n",
              "      box-shadow: 0px 1px 3px 1px rgba(0, 0, 0, 0.15);\n",
              "      filter: drop-shadow(0px 1px 2px rgba(0, 0, 0, 0.3));\n",
              "      fill: #FFFFFF;\n",
              "    }\n",
              "  </style>\n",
              "\n",
              "      <script>\n",
              "        const buttonEl =\n",
              "          document.querySelector('#df-6b777430-bdcf-4483-acbf-66baa92af552 button.colab-df-convert');\n",
              "        buttonEl.style.display =\n",
              "          google.colab.kernel.accessAllowed ? 'block' : 'none';\n",
              "\n",
              "        async function convertToInteractive(key) {\n",
              "          const element = document.querySelector('#df-6b777430-bdcf-4483-acbf-66baa92af552');\n",
              "          const dataTable =\n",
              "            await google.colab.kernel.invokeFunction('convertToInteractive',\n",
              "                                                     [key], {});\n",
              "          if (!dataTable) return;\n",
              "\n",
              "          const docLinkHtml = 'Like what you see? Visit the ' +\n",
              "            '<a target=\"_blank\" href=https://colab.research.google.com/notebooks/data_table.ipynb>data table notebook</a>'\n",
              "            + ' to learn more about interactive tables.';\n",
              "          element.innerHTML = '';\n",
              "          dataTable['output_type'] = 'display_data';\n",
              "          await google.colab.output.renderOutput(dataTable, element);\n",
              "          const docLink = document.createElement('div');\n",
              "          docLink.innerHTML = docLinkHtml;\n",
              "          element.appendChild(docLink);\n",
              "        }\n",
              "      </script>\n",
              "    </div>\n",
              "  </div>\n",
              "  "
            ]
          },
          "metadata": {},
          "execution_count": 28
        }
      ]
    },
    {
      "cell_type": "markdown",
      "source": [
        "This DataFrame consists of seven columns and an index (the range of ascending numbers on the left side of the DataFrame). Index labels serve as identifiers for rows of data. We can set any column as the index of the DataFrame, if we do not explicitly tell pandas which column to use, the library generates a numeric index starting from 0."
      ],
      "metadata": {
        "id": "xNF09d23w_ab"
      }
    },
    {
      "cell_type": "markdown",
      "source": [
        "#### Taking a first look at the dataframe\n",
        "\n",
        "We can get the first *N* rows of a DataFrame using the *head()* function. Similarly, we can get the last *N* rows using the *tail()* function."
      ],
      "metadata": {
        "id": "QyeMMk1v1wuq"
      }
    },
    {
      "cell_type": "code",
      "source": [
        "print(population_df.head(4))\n",
        "print(population_df.tail(3))"
      ],
      "metadata": {
        "colab": {
          "base_uri": "https://localhost:8080/"
        },
        "id": "W_2kL_aG4yY-",
        "outputId": "fe1c431b-65f0-407e-ac30-22fc2b022e91"
      },
      "execution_count": 32,
      "outputs": [
        {
          "output_type": "stream",
          "name": "stdout",
          "text": [
            "  ITTER107   Territory  SEXISTAT1   Gender ETA1      Age   Value\n",
            "0       IT       Italy          1    males   Y0  0 years  205956\n",
            "1       IT       Italy          2  females   Y0  0 years  195565\n",
            "2       IT       Italy          9    total   Y0  0 years  401521\n",
            "3      ITC  Nord-ovest          1    males   Y0  0 years   54122\n",
            "      ITTER107     Territory  SEXISTAT1   Gender   ETA1       Age   Value\n",
            "41307    IT111  Sud Sardegna          2  females    Y23  23 years    1251\n",
            "41308    IT111  Sud Sardegna          1    males  TOTAL     total  165713\n",
            "41309    IT111  Sud Sardegna          9    total    Y20  20 years    2784\n"
          ]
        }
      ]
    },
    {
      "cell_type": "markdown",
      "source": [
        "We can inquire about the number of rows and columns in the DataFrame and extract a row by [its index position](https://pandas.pydata.org/pandas-docs/stable/reference/api/pandas.DataFrame.iloc.html) (which starts counting at 0), or [by its index label](https://pandas.pydata.org/docs/reference/api/pandas.DataFrame.loc.html) (if we have set a specific column of the DataFrame as index)."
      ],
      "metadata": {
        "id": "1-oQSyGd8lTa"
      }
    },
    {
      "cell_type": "code",
      "source": [
        "print(population_df.shape)\n",
        "print(population_df.iloc[2])"
      ],
      "metadata": {
        "colab": {
          "base_uri": "https://localhost:8080/"
        },
        "id": "eerrU_W07L2O",
        "outputId": "6ac9c28a-e4ea-4814-9b55-452c17a8d60a"
      },
      "execution_count": 33,
      "outputs": [
        {
          "output_type": "stream",
          "name": "stdout",
          "text": [
            "(41310, 7)\n",
            "ITTER107          IT\n",
            "Territory      Italy\n",
            "SEXISTAT1          9\n",
            "Gender         total\n",
            "ETA1              Y0\n",
            "Age          0 years\n",
            "Value         401521\n",
            "Name: 2, dtype: object\n"
          ]
        }
      ]
    },
    {
      "cell_type": "code",
      "source": [
        "url = 'https://raw.githubusercontent.com/GiorgioBar/pandas/main/datasets/area.csv'\n",
        "area_df = pd.read_csv(url)"
      ],
      "metadata": {
        "id": "1ZocmusBlecs"
      },
      "execution_count": 34,
      "outputs": []
    },
    {
      "cell_type": "code",
      "source": [
        "area_df.head()"
      ],
      "metadata": {
        "colab": {
          "base_uri": "https://localhost:8080/",
          "height": 206
        },
        "id": "fRO5lxtRl6Ht",
        "outputId": "b4ce2b02-bb8d-4570-ec6c-85436c0d9c9a"
      },
      "execution_count": 35,
      "outputs": [
        {
          "output_type": "execute_result",
          "data": {
            "text/plain": [
              "  ITTER107   Territory TIPO_DATO4         Data type         Value\n",
              "0       IT       Italy    TOTAREA   total area (Ha)  3.020683e+07\n",
              "1       IT       Italy   TOTAREA2  total area (km2)  3.020683e+05\n",
              "2      ITC  Nord-ovest    TOTAREA   total area (Ha)  5.792680e+06\n",
              "3      ITC  Nord-ovest   TOTAREA2  total area (km2)  5.792680e+04\n",
              "4     ITC1    Piemonte    TOTAREA   total area (Ha)  2.538670e+06"
            ],
            "text/html": [
              "\n",
              "  <div id=\"df-98c46b31-dbd6-4606-8fae-58bab66599e4\">\n",
              "    <div class=\"colab-df-container\">\n",
              "      <div>\n",
              "<style scoped>\n",
              "    .dataframe tbody tr th:only-of-type {\n",
              "        vertical-align: middle;\n",
              "    }\n",
              "\n",
              "    .dataframe tbody tr th {\n",
              "        vertical-align: top;\n",
              "    }\n",
              "\n",
              "    .dataframe thead th {\n",
              "        text-align: right;\n",
              "    }\n",
              "</style>\n",
              "<table border=\"1\" class=\"dataframe\">\n",
              "  <thead>\n",
              "    <tr style=\"text-align: right;\">\n",
              "      <th></th>\n",
              "      <th>ITTER107</th>\n",
              "      <th>Territory</th>\n",
              "      <th>TIPO_DATO4</th>\n",
              "      <th>Data type</th>\n",
              "      <th>Value</th>\n",
              "    </tr>\n",
              "  </thead>\n",
              "  <tbody>\n",
              "    <tr>\n",
              "      <th>0</th>\n",
              "      <td>IT</td>\n",
              "      <td>Italy</td>\n",
              "      <td>TOTAREA</td>\n",
              "      <td>total area (Ha)</td>\n",
              "      <td>3.020683e+07</td>\n",
              "    </tr>\n",
              "    <tr>\n",
              "      <th>1</th>\n",
              "      <td>IT</td>\n",
              "      <td>Italy</td>\n",
              "      <td>TOTAREA2</td>\n",
              "      <td>total area (km2)</td>\n",
              "      <td>3.020683e+05</td>\n",
              "    </tr>\n",
              "    <tr>\n",
              "      <th>2</th>\n",
              "      <td>ITC</td>\n",
              "      <td>Nord-ovest</td>\n",
              "      <td>TOTAREA</td>\n",
              "      <td>total area (Ha)</td>\n",
              "      <td>5.792680e+06</td>\n",
              "    </tr>\n",
              "    <tr>\n",
              "      <th>3</th>\n",
              "      <td>ITC</td>\n",
              "      <td>Nord-ovest</td>\n",
              "      <td>TOTAREA2</td>\n",
              "      <td>total area (km2)</td>\n",
              "      <td>5.792680e+04</td>\n",
              "    </tr>\n",
              "    <tr>\n",
              "      <th>4</th>\n",
              "      <td>ITC1</td>\n",
              "      <td>Piemonte</td>\n",
              "      <td>TOTAREA</td>\n",
              "      <td>total area (Ha)</td>\n",
              "      <td>2.538670e+06</td>\n",
              "    </tr>\n",
              "  </tbody>\n",
              "</table>\n",
              "</div>\n",
              "      <button class=\"colab-df-convert\" onclick=\"convertToInteractive('df-98c46b31-dbd6-4606-8fae-58bab66599e4')\"\n",
              "              title=\"Convert this dataframe to an interactive table.\"\n",
              "              style=\"display:none;\">\n",
              "        \n",
              "  <svg xmlns=\"http://www.w3.org/2000/svg\" height=\"24px\"viewBox=\"0 0 24 24\"\n",
              "       width=\"24px\">\n",
              "    <path d=\"M0 0h24v24H0V0z\" fill=\"none\"/>\n",
              "    <path d=\"M18.56 5.44l.94 2.06.94-2.06 2.06-.94-2.06-.94-.94-2.06-.94 2.06-2.06.94zm-11 1L8.5 8.5l.94-2.06 2.06-.94-2.06-.94L8.5 2.5l-.94 2.06-2.06.94zm10 10l.94 2.06.94-2.06 2.06-.94-2.06-.94-.94-2.06-.94 2.06-2.06.94z\"/><path d=\"M17.41 7.96l-1.37-1.37c-.4-.4-.92-.59-1.43-.59-.52 0-1.04.2-1.43.59L10.3 9.45l-7.72 7.72c-.78.78-.78 2.05 0 2.83L4 21.41c.39.39.9.59 1.41.59.51 0 1.02-.2 1.41-.59l7.78-7.78 2.81-2.81c.8-.78.8-2.07 0-2.86zM5.41 20L4 18.59l7.72-7.72 1.47 1.35L5.41 20z\"/>\n",
              "  </svg>\n",
              "      </button>\n",
              "      \n",
              "  <style>\n",
              "    .colab-df-container {\n",
              "      display:flex;\n",
              "      flex-wrap:wrap;\n",
              "      gap: 12px;\n",
              "    }\n",
              "\n",
              "    .colab-df-convert {\n",
              "      background-color: #E8F0FE;\n",
              "      border: none;\n",
              "      border-radius: 50%;\n",
              "      cursor: pointer;\n",
              "      display: none;\n",
              "      fill: #1967D2;\n",
              "      height: 32px;\n",
              "      padding: 0 0 0 0;\n",
              "      width: 32px;\n",
              "    }\n",
              "\n",
              "    .colab-df-convert:hover {\n",
              "      background-color: #E2EBFA;\n",
              "      box-shadow: 0px 1px 2px rgba(60, 64, 67, 0.3), 0px 1px 3px 1px rgba(60, 64, 67, 0.15);\n",
              "      fill: #174EA6;\n",
              "    }\n",
              "\n",
              "    [theme=dark] .colab-df-convert {\n",
              "      background-color: #3B4455;\n",
              "      fill: #D2E3FC;\n",
              "    }\n",
              "\n",
              "    [theme=dark] .colab-df-convert:hover {\n",
              "      background-color: #434B5C;\n",
              "      box-shadow: 0px 1px 3px 1px rgba(0, 0, 0, 0.15);\n",
              "      filter: drop-shadow(0px 1px 2px rgba(0, 0, 0, 0.3));\n",
              "      fill: #FFFFFF;\n",
              "    }\n",
              "  </style>\n",
              "\n",
              "      <script>\n",
              "        const buttonEl =\n",
              "          document.querySelector('#df-98c46b31-dbd6-4606-8fae-58bab66599e4 button.colab-df-convert');\n",
              "        buttonEl.style.display =\n",
              "          google.colab.kernel.accessAllowed ? 'block' : 'none';\n",
              "\n",
              "        async function convertToInteractive(key) {\n",
              "          const element = document.querySelector('#df-98c46b31-dbd6-4606-8fae-58bab66599e4');\n",
              "          const dataTable =\n",
              "            await google.colab.kernel.invokeFunction('convertToInteractive',\n",
              "                                                     [key], {});\n",
              "          if (!dataTable) return;\n",
              "\n",
              "          const docLinkHtml = 'Like what you see? Visit the ' +\n",
              "            '<a target=\"_blank\" href=https://colab.research.google.com/notebooks/data_table.ipynb>data table notebook</a>'\n",
              "            + ' to learn more about interactive tables.';\n",
              "          element.innerHTML = '';\n",
              "          dataTable['output_type'] = 'display_data';\n",
              "          await google.colab.output.renderOutput(dataTable, element);\n",
              "          const docLink = document.createElement('div');\n",
              "          docLink.innerHTML = docLinkHtml;\n",
              "          element.appendChild(docLink);\n",
              "        }\n",
              "      </script>\n",
              "    </div>\n",
              "  </div>\n",
              "  "
            ]
          },
          "metadata": {},
          "execution_count": 35
        }
      ]
    },
    {
      "cell_type": "code",
      "source": [
        "%%shell\n",
        "jupyter nbconvert --to html /content/SQL_like_queries_using_Pandas.ipynb"
      ],
      "metadata": {
        "colab": {
          "base_uri": "https://localhost:8080/"
        },
        "id": "E5rurF65SXr1",
        "outputId": "8dd4b236-bef8-43b1-a75f-06e9e45e00ca"
      },
      "execution_count": null,
      "outputs": [
        {
          "output_type": "stream",
          "name": "stdout",
          "text": [
            "[NbConvertApp] Converting notebook /content/SQL_like_queries_using_Pandas.ipynb to html\n",
            "[NbConvertApp] Writing 286540 bytes to /content/SQL_like_queries_using_Pandas.html\n"
          ]
        },
        {
          "output_type": "execute_result",
          "data": {
            "text/plain": []
          },
          "metadata": {},
          "execution_count": 23
        }
      ]
    },
    {
      "cell_type": "code",
      "source": [],
      "metadata": {
        "id": "qK5Z7wNFc_-K"
      },
      "execution_count": null,
      "outputs": []
    }
  ]
}